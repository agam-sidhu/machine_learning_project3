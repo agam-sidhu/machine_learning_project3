{
  "cells": [
    {
      "cell_type": "code",
      "execution_count": null,
      "metadata": {
        "id": "S3XkfU-rrBBR"
      },
      "outputs": [],
      "source": [
        "# Import the necessary libraries \n",
        "%matplotlib inline\n",
        "from matplotlib import pyplot as plt\n",
        "import numpy as np\n",
        "import torch\n",
        "import torch.nn as nn\n",
        "import torch.optim as optim\n",
        "from torchvision import datasets, transforms\n",
        "from torch.utils.data import TensorDataset, DataLoader\n",
        "import pandas as pd\n",
        "from PIL import Image"
      ]
    },
    {
      "cell_type": "code",
      "execution_count": null,
      "metadata": {
        "colab": {
          "base_uri": "https://localhost:8080/"
        },
        "id": "VMbNojgDrEIL",
        "outputId": "12cb3ee5-1886-4aed-9122-60250bcf04bc"
      },
      "outputs": [],
      "source": [
        "# Check if a GPU is available, if so, use it; otherwise, use CPU\n",
        "device = torch.device(\"cuda:0\" if torch.cuda.is_available() else \"cpu\")\n",
        "print(device)"
      ]
    },
    {
      "cell_type": "code",
      "execution_count": null,
      "metadata": {
        "colab": {
          "base_uri": "https://localhost:8080/"
        },
        "id": "GUwh9rkCrGsP",
        "outputId": "55063fa6-1285-4098-dd05-8b1ae3a6b406"
      },
      "outputs": [],
      "source": [
        "# Mount Google Drive to access data\n",
        "from google.colab import drive\n",
        "drive.mount('/content/drive/')\n"
      ]
    },
    {
      "cell_type": "code",
      "execution_count": null,
      "metadata": {
        "id": "HZtWGra1xMHr"
      },
      "outputs": [],
      "source": [
        "# Read training and testing data from CSV files\n",
        "read_train = pd.read_csv('/content/drive/My Drive/Colab Notebooks/kaggleData/train_data.csv', delimiter=',', skiprows=0)\n",
        "read_test = pd.read_csv('/content/drive/My Drive/Colab Notebooks/kaggleData/test_data.csv', delimiter=',', skiprows=0, header=None)\n",
        "read_target = pd.read_csv('/content/drive/My Drive/Colab Notebooks/kaggleData/train_target.csv', delimiter=',', skiprows=0)\n",
        "\n",
        "# Extract target values\n",
        "targetValues = read_target.iloc[:, 0].values\n",
        "\n",
        "# Define a custom transformation to convert data to PIL format\n",
        "class ToPILImage(object):\n",
        "    def __call__(self, tensor):\n",
        "        return transforms.ToPILImage()(tensor)\n",
        "\n",
        "# Building Tranformations\n",
        "transform = transforms.Compose([\n",
        "    ToPILImage(),\n",
        "    transforms.RandomHorizontalFlip(),\n",
        "    transforms.RandomRotation(15),\n",
        "    transforms.GaussianBlur(3),\n",
        "    transforms.ToTensor()\n",
        "])\n",
        "\n",
        "#Convert to numpy\n",
        "train_numpy = read_train.to_numpy()\n",
        "test_numpy = read_test.to_numpy()\n",
        "target_numpy = read_target.to_numpy()\n",
        "\n",
        "#Normalizing\n",
        "train_numpy = train_numpy / 225.0\n",
        "test_numpy = test_numpy / 225.0\n",
        "\n",
        "#Converting into tensor\n",
        "train_tensor = torch.tensor(train_numpy, dtype=torch.float32)\n",
        "target_tensor = torch.tensor(targetValues)\n",
        "test_tensor = torch.tensor(test_numpy, dtype=torch.float32)\n",
        "\n",
        "#Reshape the input data from 3d into 4D\n",
        "train_tensor = train_tensor.view(-1, 1, 48, 48)\n",
        "test_tensor = test_tensor.view(-1, 1, 48, 48)\n",
        "\n",
        "#Transform dataset\n",
        "dataset = TensorDataset(train_tensor, target_tensor)\n",
        "dataset_transformed = [(transform(x), y) for x, y in dataset]\n",
        "\n",
        "target_dataset = TensorDataset(target_tensor)\n",
        "\n",
        "# Create DataLoader for train data\n",
        "kwargs = {'num_workers': 1, 'pin_memory': True} if torch.cuda.is_available()else {}\n",
        "train_dataloader = DataLoader(dataset_transformed, batch_size=16, shuffle=True, **kwargs)\n",
        "\n"
      ]
    },
    {
      "cell_type": "code",
      "execution_count": null,
      "metadata": {
        "id": "IcJaHd2toU6J"
      },
      "outputs": [],
      "source": [
        "import torch.nn as nn\n",
        "\n",
        "# Define a neural network model with batch normalization\n",
        "class NetBatchNorm(nn.Module):\n",
        "    def __init__(self):\n",
        "        super(NetBatchNorm, self).__init__()\n",
        "        self.conv1 = nn.Conv2d(1, 32, kernel_size=3, stride=1, padding=1)\n",
        "        self.bn1 = nn.BatchNorm2d(32)\n",
        "        self.conv2 = nn.Conv2d(32, 64, kernel_size=3, stride=1, padding=1)\n",
        "        self.bn2 = nn.BatchNorm2d(64)\n",
        "        self.conv3 = nn.Conv2d(64, 128, kernel_size=3, stride=1, padding=1)\n",
        "        self.bn3 = nn.BatchNorm2d(128)\n",
        "        self.conv4 = nn.Conv2d(128, 256, kernel_size=3, stride=1, padding=1)\n",
        "        self.bn4 = nn.BatchNorm2d(256)\n",
        "        self.fc1 = nn.Linear(256 * 3 * 3, 512)\n",
        "        self.drop1 = nn.Dropout(0.5)\n",
        "        self.fc2 = nn.Linear(512, 256)\n",
        "        self.drop2 = nn.Dropout(0.5)\n",
        "        self.fc3 = nn.Linear(256, 7)\n",
        "\n",
        "    def forward(self, x):\n",
        "        x = torch.relu(self.conv1(x))\n",
        "        x = self.bn1(x)\n",
        "        x = torch.max_pool2d(x, kernel_size=2, stride=2)\n",
        "        x = torch.relu(self.conv2(x))\n",
        "        x = self.bn2(x)\n",
        "        x = torch.max_pool2d(x, kernel_size=2, stride=2)\n",
        "        x = torch.relu(self.conv3(x))\n",
        "        x = self.bn3(x)\n",
        "        x = torch.max_pool2d(x, kernel_size=2, stride=2)\n",
        "        x = torch.relu(self.conv4(x))\n",
        "        x = self.bn4(x)\n",
        "        x = torch.max_pool2d(x, kernel_size=2, stride=2)\n",
        "        x = x.view(x.size(0), -1)\n",
        "        x = torch.relu(self.fc1(x))\n",
        "        x = self.drop1(x)\n",
        "        x = torch.relu(self.fc2(x))\n",
        "        x = self.drop2(x)\n",
        "        x = self.fc3(x)\n",
        "        return x\n",
        "\n",
        "model = NetBatchNorm()"
      ]
    },
    {
      "cell_type": "code",
      "execution_count": null,
      "metadata": {
        "colab": {
          "base_uri": "https://localhost:8080/"
        },
        "id": "XPT5lqz73DOt",
        "outputId": "4a17a432-eea7-4aa4-b0e9-621e2259b41d"
      },
      "outputs": [],
      "source": [
        "learning_rate = 0.001\n",
        "model = model.to(device)\n",
        "\n",
        "# Move the model's weight tensors to the same device as the model (GPU)\n",
        "model = model.to(device)\n",
        "#optimizer\n",
        "optimizer = torch.optim.Adam(model.parameters(), lr=learning_rate)\n",
        "\n",
        "# Define the loss function\n",
        "loss_fn = nn.CrossEntropyLoss()\n",
        "\n",
        "n_epochs = 15\n",
        "\n",
        "for epoch in range(n_epochs):\n",
        "    model.train(True)\n",
        "    for imgs,labels in train_dataloader:\n",
        "        imgs, labels = imgs.to(device), labels.to(device)\n",
        "\n",
        "        outputs = model(imgs)\n",
        "\n",
        "        train_loss = loss_fn(outputs, labels)\n",
        "\n",
        "        optimizer.zero_grad()\n",
        "        train_loss.backward()\n",
        "        optimizer.step()\n",
        "\n",
        "    model.eval()\n",
        "    print(\"Epoch: %d, train_loss: %f\" % (epoch, float(train_loss)))"
      ]
    },
    {
      "cell_type": "code",
      "execution_count": null,
      "metadata": {
        "id": "pTg-F3Tqs3TI"
      },
      "outputs": [],
      "source": [
        "test_tensor = test_tensor.to(device)\n",
        "with torch.no_grad():\n",
        "    test_predictions = model(test_tensor)\n",
        "\n",
        "# Get the predicted class labels\n",
        "    test_predictions = torch.max(test_predictions, dim=1)"
      ]
    },
    {
      "cell_type": "code",
      "execution_count": null,
      "metadata": {
        "id": "ocwMN3dntbp8"
      },
      "outputs": [],
      "source": [
        "submission_df = pd.DataFrame({\n",
        "    \"Id\": range(len(test_predictions)),\n",
        "    \"Category\": test_predictions.cpu().numpy()\n",
        "})\n",
        "\n",
        "# Save the DataFrame to a CSV file\n",
        "submission_df.to_csv('/content/drive/My Drive/Colab Notebooks/kaggleData/submission.csv', index=False)"
      ]
    }
  ],
  "metadata": {
    "accelerator": "GPU",
    "colab": {
      "gpuType": "T4",
      "provenance": []
    },
    "kernelspec": {
      "display_name": "Python 3",
      "name": "python3"
    },
    "language_info": {
      "name": "python"
    }
  },
  "nbformat": 4,
  "nbformat_minor": 0
}
